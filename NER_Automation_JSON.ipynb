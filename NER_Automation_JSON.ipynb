{
 "cells": [
  {
   "cell_type": "code",
   "execution_count": 42,
   "metadata": {},
   "outputs": [
    {
     "name": "stdout",
     "output_type": "stream",
     "text": [
      "spaCy: 2.2.2\n"
     ]
    }
   ],
   "source": [
    "import spacy\n",
    "import json\n",
    "\n",
    "print('spaCy: %s' % (spacy.__version__))\n",
    "spacy_nlp = spacy.load('en_core_web_sm')"
   ]
  },
  {
   "cell_type": "code",
   "execution_count": 43,
   "metadata": {},
   "outputs": [
    {
     "name": "stdout",
     "output_type": "stream",
     "text": [
      "tobacco/mnt/ceph/shared/tobacco/data/1million_raw\n",
      "<generator object Path.iterdir at 0x7f198fb55af0>\n"
     ]
    }
   ],
   "source": [
    "from pathlib import Path\n",
    "import sys\n",
    "\n",
    "mypath=\"tobacco/mnt/ceph/shared/tobacco/data/1million_raw\"\n",
    "\n",
    "source_dir = Path(mypath)\n",
    "print(source_dir)\n",
    "\n",
    "files = source_dir.iterdir()\n",
    "print(files)\n"
   ]
  },
  {
   "cell_type": "code",
   "execution_count": 44,
   "metadata": {},
   "outputs": [],
   "source": [
    "#CReate a directory called 'NER' in the location where this python script is saved. All\n",
    "#the text files containing ner results are saved in this directory\n",
    "import os\n",
    "\n",
    "with os.scandir(mypath) as root_dir:\n",
    "    for path in root_dir:\n",
    "        f=open(path, 'r') \n",
    "        nerlist=[]\n",
    "        file_handle=f.readlines()\n",
    "        for line in file_handle:\n",
    "            \n",
    "            document = spacy_nlp(line)\n",
    "            for element in document.ents:\n",
    "                nerlist.append((element.label_, element))\n",
    "                \n",
    "        respath=\"NER/\"+path.name+\".txt\"\n",
    "      \n",
    "        f2= open(respath,\"w+\")\n",
    "        f2.write(str(nerlist))\n",
    "        f2.close()\n",
    "        f.close()\n",
    "       "
   ]
  },
  {
   "cell_type": "code",
   "execution_count": null,
   "metadata": {},
   "outputs": [],
   "source": []
  }
 ],
 "metadata": {
  "kernelspec": {
   "display_name": "Python 3",
   "language": "python",
   "name": "python3"
  },
  "language_info": {
   "codemirror_mode": {
    "name": "ipython",
    "version": 3
   },
   "file_extension": ".py",
   "mimetype": "text/x-python",
   "name": "python",
   "nbconvert_exporter": "python",
   "pygments_lexer": "ipython3",
   "version": "3.6.5"
  }
 },
 "nbformat": 4,
 "nbformat_minor": 2
}
