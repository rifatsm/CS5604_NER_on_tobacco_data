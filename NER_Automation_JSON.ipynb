{
 "cells": [
  {
   "cell_type": "code",
   "execution_count": 2,
   "metadata": {},
   "outputs": [
    {
     "name": "stdout",
     "output_type": "stream",
     "text": [
      "spaCy: 2.2.2\n"
     ]
    }
   ],
   "source": [
    "import spacy\n",
    "import json\n",
    "\n",
    "print('spaCy: %s' % (spacy.__version__))\n",
    "spacy_nlp = spacy.load('en_core_web_sm')"
   ]
  },
  {
   "cell_type": "code",
   "execution_count": 3,
   "metadata": {},
   "outputs": [
    {
     "name": "stdout",
     "output_type": "stream",
     "text": [
      "tobacco/mnt/ceph/shared/tobacco/data/1million_raw\n",
      "<generator object Path.iterdir at 0x7f19c8105780>\n"
     ]
    }
   ],
   "source": [
    "from pathlib import Path\n",
    "import sys\n",
    "#Path where the tobacco data is stored\n",
    "mypath=\"tobacco/mnt/ceph/shared/tobacco/data/1million_raw\"\n",
    "source_dir = Path(mypath)\n",
    "print(source_dir)\n",
    "\n",
    "files = source_dir.iterdir()\n",
    "print(files)\n"
   ]
  },
  {
   "cell_type": "code",
   "execution_count": 4,
   "metadata": {},
   "outputs": [
    {
     "name": "stdout",
     "output_type": "stream",
     "text": [
      "{\"id\": \"fxdx0004\", \"ner\": \"[('DATE', 1 -\\t), ('PERSON', Eileen\\t), ('ORG', Ju126), ('DATE', 1993), ('PERSON', Alleyne-Chin), ('PERSON', Trish Trish), ('MONEY', 2), ('CARDINAL', 4), ('PERCENT', 60%), ('PERCENT', 40%), ('CARDINAL', Only one), ('ORG', UPC), ('DATE', 2044973649), ('PERSON', Alleyne-Chin), ('LANGUAGE', Trish), ('ORG', Ju126), ('DATE', 1993), ('PERSON', Eileen Sorry), ('DATE', last week), ('CARDINAL', 2044973650), ('PERSON', Eileen), ('PERSON', Ju121), ('PERSON', Alleyne-Chin), ('PERSON', Trish Trish), ('ORG', IRI), ('PERSON', Eileen 2044973651), ('PERSON', Alleyne-Chin), ('LANGUAGE', Trish), ('PERSON', Eileen), ('PERSON', Kankakee)]\"}\n",
      "{\"id\": \"nzyy0013\", \"ner\": \"[('ORG', Tobacco International,), ('PERSON', Latin AmericaiCaribbean), ('PERSON', Armando G. Ruiz), ('DATE', September 21, 1981), ('PERSON', Joe Ramos), ('CARDINAL', 1st), ('GPE', Waves - Mexico), ('ORG', 1st Post), ('ORG', the Winston Tracking Study), ('GPE', Winston), ('GPE', Mexico), ('GPE', Winston), ('NORP', Mexican), ('DATE', 1972), ('DATE', mid 1979), ('ORG', R7nI'I/CIGATAM), ('GPE', Winston), ('DATE', July 13), ('DATE', 6 weeks), ('GPE', Winston), ('DATE', late April), ('CARDINAL', two), ('CARDINAL', 12), ('GPE', Mexico), ('GPE', Conclusions - Mexico City), ('PERCENT', 10% to 14%), ('PERCENT', 96% to 98%), ('PERCENT', 77% to 86%), ('PERCENT', 0.89 to 2.22%), ('PERSON', Winston), ('PERCENT', 7% to 17%), ('PERCENT', 30% to 55%), ('PERCENT', 27%), ('GPE', Winston), ('PERSON', Winston), ('ORG', eT~), ('ORG', Marlboro), ('PERSON', Viceroy), ('GPE', Winston), ('ORG', Marlboro), ('GPE', Viceroy), ('GPE', Winston), ('ORG', Marlboro), ('PERSON', Viceroy), ('ORG', Marlboro), ('GPE', Viceroy), ('GPE', Miami), ('PERSON', Winston), ('ORG', Marlboro), ('ORG', Viceroy), ('GPE', Mexico City), ('ORG', Marlboro), ('PERSON', Winston), ('PERSON', Winston), ('ORG', Marlboro), ('PERSON', Winston ~-), ('PERSON', Vicexoy Good), ('PERSON', Yowng Viceroy), ('PERSON', Winston), ('GPE', Guadalajara), ('CARDINAL', two-thirds), ('GPE', Winston), ('DATE', 21, 1981), ('GPE', Guadalajara), ('DATE', about tan weeks), ('GPE', Provincia), ('DATE', twrr weeks), ('GPE', Mexico City), ('PERCENT', 10-20%), ('ORG', Provincia), ('GPE', Winston), ('PERSON', Provincia), ('GPE', Mexico City), ('ORDINAL', second), ('ORG', Post), ('DATE', September), ('PERSON', Arniando G. Ruiz AGR/lm cc:), ('PERSON', M. A. Sosa J. A1orton), ('PERSON', J. Jarillo), ('GPE', Cigatam), ('GPE', Hernandez), ('GPE', Cigatam - Mexico), ('PERSON', F. Perez), ('GPE', Cigatam - Mexico), ('WORK_OF_ART', With Tables\\\"  \\n), ('PERSON', Among Ra -ig Fies), ('CARDINAL', 1), ('ORDINAL', 1st), ('ORG', 1st Post), ('ORDINAL', 2nd), ('TIME', 2nd), ('PERSON', Rqst), ('PERSON', Pte Brand), ('ORDINAL', 7bp), ('GPE', Winston), ('PERCENT', 10 14\\t), ('CARDINAL', 64 59), ('GPE', Winston), ('PERCENT', 96 98\\t), ('CARDINAL', 1), ('CARDINAL', 100), ('ORG', Trial Winston), ('ORG', Marlboro), ('PERCENT', 96 96), ('CARDINAL', 92), ('CARDINAL', 51 54), ('ORG', Marlboro), ('CARDINAL', 70 70), ('PERSON', Winston), ('CARDINAL', 16 14), ('PRODUCT', Marlboro), ('CARDINAL', 48), ('CARDINAL', 35), ('CARDINAL', 33), ('CARDINAL', 0.89), ('CARDINAL', 28.67), ('CARDINAL', 24.89), ('PERSON', Vicetvy), ('CARDINAL', 10.89), ('ORG', Raleigh), ('PRODUCT', 26.00), ('MONEY', 31.11\\t), ('CARDINAL', 5.78), ('PERSON', Kent), ('PERCENT', 90%), ('PERCENT', 95%), ('CARDINAL', r;hUY), ('GPE', Mexico City), ('PERSON', Dif), ('PERSON', lst Post), ('ORDINAL', 2nd), ('GPE', Winston), ('PERCENT', 12 18\\t+6S(l), ('GPE', Winston), ('CARDINAL', 1), ('ORG', Marlboro), ('PRODUCT', 100 99), ('CARDINAL', 100), ('ORG', Trial Winston), ('DATE', 77 90), ('CARDINAL', 2), ('ORG', Marlboro), ('PRODUCT', 100 99), ('CARDINAL', 92), ('PERSON', Purchase Winston), ('CARDINAL', 1), ('PERSON', Winston), ('CARDINAL', 13), ('ORG', Marlboro), ('PRODUCT', 69 64), ('CARDINAL', 41), ('GPE', Winston), ('PERCENT', 1.93 5.56), ('ORG', Marlboro), ('PRODUCT', 62.32 62.22), ('ORG', Sig), ('ORG', 2nd Post), ('ORG', 3rd Post S(1), ('PERCENT', 90%), ('PERCENT', 95%), ('ORG', c.ity Prn.-Study 1st Post Sig), ('ORG', 1st Post), ('ORDINAL', 2nd), ('GPE', Winston), ('DATE', 13 13), ('CARDINAL', 58 55), ('CARDINAL', 29), ('PERSON', Winston), ('PERCENT', 97 98), ('ORG', Trial Winston), ('DATE', 79 80), ('ORG', Marlboro), ('ORG', Vicerny), ('DATE', 57 49), ('CARDINAL', 75 67), ('CARDINAL', 66 61), ('ORG', Future Purdkise), ('GPE', Winston), ('DATE', 49 35), ('CARDINAL', 37), ('ORG', 2nd Post), ('PERCENT', 90%), ('PERCENT', 95%), ('ORG', 1st Post Sig), ('ORG', 1st Post), ('ORDINAL', 2nd), ('GPE', Winston), ('PERCENT', 4 11\\t), ('ORG', Marlboro), ('DATE', 25 32), ('GPE', Winston), ('CARDINAL', 96 97), ('ORG', Marlboro), ('CARDINAL', 100), ('CARDINAL', 98), ('GPE', Winston), ('PERCENT', 75 85), ('CARDINAL', 97), ('CARDINAL', 91), ('CARDINAL', 55 49), ('ORG', Marlboro), ('CARDINAL', 62 62), ('CARDINAL', 18 16), ('ORG', Marlboro), ('ORG', 2nd Post), ('ORG', 3rd Post Sig), ('ORG', 3rd Post Vs), ('PERSON', Yre), ('PERCENT', 90%), ('PERCENT', 95%), ('ORG', MARIBORO), ('NORP', Me--), ('ORG', Pre Study), ('ORDINAL', 1st), ('PERSON', Winston), ('PERSON', Vot), ('MONEY', 5=`ibo Muoh Rbbacco), ('PERCENT', 3.06 3.16), ('PERCENT', 3.04 3.26), ('CARDINAL', 1), ('MONEY', 3.23), ('CARDINAL', 5), ('LOC', Bad Taste S), ('MONEY', 3.57), ('CARDINAL', 3.59), ('PERSON', All Harsh), ('ORG', IISER), ('CARDINAL', 3.08), ('CARDINAL', 2.83), ('CARDINAL', 2.81), ('CARDINAL', 5), ('CARDINAL', 5), ('PERSON', Yoisng Adults/1), ('PERCENT', 3.22 3.38), ('CARDINAL', 3.57), ('CARDINAL', 5), ('GPE', Modem), ('PERCENT', 2.95 3.17), ('CARDINAL', 2.91), ('CARDINAL', 5), ('CARDINAL', 3.25), ('CARDINAL', 3.34), ('CARDINAL', 5), ('EVENT', Active People/1), ('PERCENT', 3.16 3.26), ('PRODUCT', 3.22), ('CARDINAL', 3.26), ('CARDINAL', 3.32), ('CARDINAL', 5), ('MONEY', 3.23 3.38 3.24 3.39), ('ORG', L7e 'o), ('PERSON', Winston VicexoY), ('PERSON', Winston Viceroy Sig), ('PERSON', Winston), ('PERSON', Viceroy), ('ORG', Strong/1), ('CARDINAL', 4bbacco), ('CARDINAL', 1), ('CARDINAL', 3.07), ('CARDINAL', 3.15), ('CARDINAL', 2.81), ('CARDINAL', 5), ('CARDINAL', 2.74), ('CARDINAL', 2.68 3.06), ('CARDINAL', 5), ('CARDINAL', 2.80), ('CARDINAL', 3.14), ('FAC', 2.74), ('PERSON', P7ot), ('CARDINAL', 3.08), ('CARDINAL', 2.42), ('CARDINAL', 2.98), ('CARDINAL', 2.55), ('CARDINAL', 5), ('ORG', Wa[nn), ('CARDINAL', 3.22), ('CARDINAL', 2.89), ('CARDINAL', 3.28), ('CARDINAL', 5), ('WORK_OF_ART', Young Adalts/1), ('ORG', Older People '), ('LOC', Pbdern People/1), ('CARDINAL', 3.16), ('CARDINAL', 3.23), ('EVENT', Active People/1), ('CARDINAL', 2.98), ('CARDINAL', 3.01 3.10), ('MONEY', 3.23 3.35 3.24), ('PERSON', Viceroy Winston), ('PERSON', Sarshes), ('PRODUCT', 909ZS)]\"}\n",
      "{\"id\": \"fxjh0013\", \"ner\": \"[('CARDINAL', two), ('GPE', the United States), ('GPE', Virginia), ('GPE', North Carolina), ('GPE', South Carolina), ('GPE', Georgia), ('GPE', Florida), ('PERSON', burley), ('GPE', Kentucky), ('GPE', Tennessee), ('ORG', Lorillard), ('ORG', Lorillard), ('NORP', Near Eastern), ('GPE', Turkey), ('GPE', Wisconsin), ('GPE', Pennsylvania), ('PERSON', Lorillard), ('ORG', cooperatives), ('ORG', the Commodity Credit Corporation), ('DATE', annual), ('PERSON', burley), ('DATE', the ten years ended in 1984), ('CARDINAL', 197), ('MONEY', approximately $), ('CARDINAL', 198), ('PERSON', burley), ('CARDINAL', 197), ('CARDINAL', 198), ('DATE', 1984), ('CARDINAL', 5), ('MONEY', .), ('ORG', Lorillard), ('DATE', 1984), ('ORG', Lorillard), ('CARDINAL', 100), ('CARDINAL', 120), ('MONEY', 3$ per thousand), ('DATE', approximately two years), ('ORG', Lorillard), ('ORG', the Consolidated Financial Statements), ('MONEY', 4.00), ('MONEY', 8.00), ('DATE', January 1, 1983), ('DATE', December 31, 1985), ('CARDINAL', fifty), ('GPE', the District of Columbia), ('MONEY', 2 cents), ('MONEY', 26 cents), ('CARDINAL', twenty), ('GPE', Lorillard), ('ORG', Lorillard), ('ORG', Lorillard), ('GPE', Greensboro), ('GPE', North Carolina), ('GPE', Louisville), ('GPE', Kentucky), ('NORP', Greensboro), ('QUANTITY', approximately 79 acres), ('QUANTITY', approximately 942,600 square feet), ('GPE', Louisville), ('QUANTITY', about 800,000 square feet), ('QUANTITY', approximately 24 acres), ('DATE', early 1986), ('ORG', Lorillard), ('GPE', Danville), ('GPE', Virginia), ('QUANTITY', approximately 2,000,000 square feet), ('ORG', Lancaster and Columbia), ('GPE', Pennsylvania), ('PERSON', Westby), ('PERSON', Stoughton), ('GPE', Wisconsin), ('QUANTITY', approximately 82,000 square feet), ('GPE', Greensboro), ('QUANTITY', 666 Fifth Avenue), ('GPE', New York), ('GPE', New York), ('GPE', the United States), ('ORG', Lorillard  Calendar Year\\tIndustry), ('ORG', Industr), ('DATE', 1984), ('DATE', 1983), ('PERCENT', 9.1%), ('DATE', 1982), ('PERCENT', 8.7%), ('ORG', the Internal Revenue Service), ('ORG', The Maxwell Report), ('DATE', quarterly), ('DATE', 1984), ('DATE', 1983), ('DATE', 1982), ('ORG', Lorillard), ('PERCENT', 9.2%), ('PERCENT', 8.7%), ('ORDINAL', fourth), ('GPE', the United States), ('DATE', December 31, 1984), ('ORG', Company), ('ORG', Company), ('ORG', the Tobacco Workers International Union), ('ORG', the International Brotherhood of Firemen and Oilers), ('ORG', the International Association of Machinists), ('TIME', hourly), ('ORG', the Lorillard Division), ('CARDINAL', 2), ('LAW', Item 1), ('ORG', BUSINESS), ('ORG', Loew), ('ORG', Theatres, Inc.), ('ORG', Loews Corporation), ('WORK_OF_ART', Loews), ('DATE', 1984), ('ORG', Loews), ('ORG', Company), ('ORG', Loews), ('ORG', the Consolidated Financial Statements), ('ORG', LORILLARD DIVISION Sales), ('PERCENT', approximately 97%), ('ORG', the Lorillard Division), ('ORG', Lorillard), ('PERSON', Kent), ('PERSON', Kent III), ('PERSON', Kent Golden Lights), ('GPE', Newport), ('PERSON', Satin), ('PERSON', Max), ('ORG', Advertising and Sales Promotion), ('ORG', the Federal Communications Commission), ('GPE', the United States), ('WORK_OF_ART', Warning:), ('ORG', the Federal Trade Commission), ('ORG', Commission), ('ORG', Federal), ('ORG', Congress), ('CARDINAL', 3), ('CARDINAL', 1), ('DATE', November 16, 1911), ('ORG', the Circuit Court), ('LOC', the Southern District), ('GPE', New York), ('LAW', the Sherman Act), ('GPE', United States of America), ('ORG', The American Tobacco Com), ('CARDINAL', fourteen), ('CARDINAL', 2), ('CARDINAL', Three), ('ORG', Company), ('ORDINAL', first), ('PERSON', Ci), ('PERSON', Loew), ('ORG', Theatres,), ('LOC', New ersey), ('ORDINAL', second), ('PERSON', Loew), ('ORG', Theatres,), ('ORG', Company), ('ORG', Plaintiff), ('ORDINAL', third), ('PERSON', Haines), ('PERSON', Loew), ('ORG', Theatres,), ('GPE', New Jersey), ('ORG', THE RE6ISTRANT'S), ('PERSON', RELATED STOCKHOLDER), ('CARDINAL', 1), ('DATE', March 4, 1985), ('MONEY', 3,000,000 and $90,000,000), ('DATE', the years ended December 31, 1984 and 1983), ('ORG', the Consolidated Financial Statements), ('CARDINAL', 8), ('DATE', Annual)]\"}\n",
      "{\"id\": \"fxgj0008\", \"ner\": \"[('ORG', Kinser), ('PERSON', Robin D.), ('PERSON', Kinser), ('PERSON', Robin D. Sent), ('DATE', Friday, March 09, 2001 2:57 PM), ('PERSON', Walk), ('PERSON', Roger A.), ('ORG', Gullotta), ('PERSON', Frank P.), ('ORG', Hirnikel), ('PERSON', Daniel J.), ('GPE', Lau), ('PERSON', Raymond W.), ('PERSON', Nelson), ('ORG', Bettie L), ('PERSON', Jan), ('PERSON', Putney), ('PERSON', Rebecca M.), ('GPE', Roethig), ('PERSON', Hans-Juergen), ('GPE', Takada), ('GPE', Kohji), ('PERSON', Debra), ('PERSON', Zhang), ('PERSON', Mingda Cc), ('PERSON', Kinser), ('PERSON', Robin D. Subject), ('PERSON', Rick), ('PERSON', Roger), ('MONEY', 2), ('PERSON', Rick), ('PERSON', Robin Robin Kinser), ('PERSON', Robin), ('PERSON', Walk), ('PERSON', Roger A. Sent), ('DATE', Thursday, March 08, 2001), ('PERSON', Gullotta), ('PERSON', Frank), ('PERSON', Hirnikel), ('PERSON', Daniel), ('PERSON', Kinser), ('PERSON', Robin), ('PERSON', Lau), ('PERSON', Raymond), ('PERSON', Nelson), ('PERSON', Jan), ('PERSON', Putney), ('PERSON', Rebecca), ('GPE', Roethig), ('PERSON', Hans-Juergen), ('GPE', Takada), ('GPE', Kohji), ('PERSON', Debra), ('PERSON', Zhang), ('PERSON', Rick), ('WORK_OF_ART', Dear AII), ('ORG', HS), ('PERSON', Rick), ('DATE', Friday 2d9), ('PERSON', Raper)]\"}\n",
      "{\"id\": \"ffbc0011\", \"ner\": \"[('DATE', April 22, 1991), ('PERSON', R. H. Orcutt), ('PERSON', Dick), ('PERSON', Dodwell), ('DATE', the end of 1991/beginning of 1992), ('ORG', HARLEY), ('LOC', the Far East), ('DATE', the beginning of July), ('ORG', HARLEY), ('GPE', Japan), ('PERSON', R. S. Goldbrenner M. A. Peterson)]\"}\n"
     ]
    }
   ],
   "source": [
    "#Creating a dictionart object in the format \"[id : doc id],[\"ner\":ner_values of the document]\"\n",
    "#The values are then converted to a json object\n",
    "import os\n",
    "\n",
    "with os.scandir(mypath) as root_dir:\n",
    "    for path in root_dir:\n",
    "        f=open(path, 'r') \n",
    "        nerlist=[]\n",
    "        file_handle=f.readlines()\n",
    "        for line in file_handle:\n",
    "            #print(line)\n",
    "            document = spacy_nlp(line)\n",
    "            for element in document.ents:\n",
    "                nerlist.append((element.label_, element))\n",
    "        dictobj={}\n",
    "        dictobj[\"id\"]=path.name\n",
    "        dictobj[\"ner\"]=str(nerlist)\n",
    "        serialized= json.dumps(dictobj)\n",
    "        print(serialized)"
   ]
  },
  {
   "cell_type": "code",
   "execution_count": null,
   "metadata": {},
   "outputs": [],
   "source": []
  }
 ],
 "metadata": {
  "kernelspec": {
   "display_name": "Python 3",
   "language": "python",
   "name": "python3"
  },
  "language_info": {
   "codemirror_mode": {
    "name": "ipython",
    "version": 3
   },
   "file_extension": ".py",
   "mimetype": "text/x-python",
   "name": "python",
   "nbconvert_exporter": "python",
   "pygments_lexer": "ipython3",
   "version": "3.7.1"
  }
 },
 "nbformat": 4,
 "nbformat_minor": 2
}
