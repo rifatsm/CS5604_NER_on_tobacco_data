{
 "cells": [
  {
   "cell_type": "markdown",
   "metadata": {},
   "source": [
    "Source: https://towardsdatascience.com/named-entity-recognition-3fad3f53c91e"
   ]
  },
  {
   "cell_type": "markdown",
   "metadata": {},
   "source": [
    "## 1. Stanford NER"
   ]
  },
  {
   "cell_type": "markdown",
   "metadata": {},
   "source": [
    "### Step 1: Environment Setup\n",
    "\n",
    "The code part is copied from https://en.wikipedia.org/wiki/Stanford_University"
   ]
  },
  {
   "cell_type": "code",
   "execution_count": 5,
   "metadata": {},
   "outputs": [
    {
     "name": "stdout",
     "output_type": "stream",
     "text": [
      "/home/ri/Desktop/Info Storage and Retrieval/venv_1/bin/pip\n",
      "Collecting pip\n",
      "  Downloading https://files.pythonhosted.org/packages/30/db/9e38760b32e3e7f40cce46dd5fb107b8c73840df38f0046d8e6514e675a1/pip-19.2.3-py2.py3-none-any.whl (1.4MB)\n",
      "Installing collected packages: pip\n",
      "  Found existing installation: pip 19.0.3\n",
      "    Uninstalling pip-19.0.3:\n",
      "      Successfully uninstalled pip-19.0.3\n",
      "Successfully installed pip-19.2.3\n",
      "pip 19.2.3 from /home/ri/Desktop/Info Storage and Retrieval/venv_1/lib/python3.7/site-packages/pip (python 3.7)\n",
      "Requirement already satisfied: nltk==3.4.5 in /home/ri/Desktop/Info Storage and Retrieval/venv_1/lib/python3.7/site-packages (3.4.5)\n",
      "Requirement already satisfied: six in /home/ri/Desktop/Info Storage and Retrieval/venv_1/lib/python3.7/site-packages (from nltk==3.4.5) (1.12.0)\n"
     ]
    }
   ],
   "source": [
    "%%bash\n",
    ". ~/.bashrc\n",
    "which pip\n",
    "pip install --upgrade pip\n",
    "pip --version\n",
    "pip install nltk==3.4.5"
   ]
  },
  {
   "cell_type": "code",
   "execution_count": 6,
   "metadata": {},
   "outputs": [
    {
     "name": "stdout",
     "output_type": "stream",
     "text": [
      "nltk==3.4.5\n",
      "six==1.12.0\n"
     ]
    }
   ],
   "source": [
    "%%bash\n",
    ". ~/.bashrc\n",
    "pip freeze"
   ]
  },
  {
   "cell_type": "markdown",
   "metadata": {},
   "source": [
    "### Step 2: Import library"
   ]
  },
  {
   "cell_type": "code",
   "execution_count": 11,
   "metadata": {},
   "outputs": [
    {
     "name": "stdout",
     "output_type": "stream",
     "text": [
      "NTLK Version: 3.4.4\n"
     ]
    }
   ],
   "source": [
    "import nltk\n",
    "print('NTLK Version: %s' % nltk.__version__)\n",
    "\n",
    "n_dir = 'ner_dir/'\n",
    "\n",
    "from nltk.tag import StanfordNERTagger\n",
    "stanford_ner_tagger = StanfordNERTagger(\n",
    "    n_dir + 'classifiers/english.all.3class.distsim.crf.ser.gz',\n",
    "    n_dir + 'stanford-ner-3.9.1.jar'\n",
    ")"
   ]
  },
  {
   "cell_type": "markdown",
   "metadata": {},
   "source": [
    "### Step 3: First test"
   ]
  },
  {
   "cell_type": "code",
   "execution_count": 14,
   "metadata": {},
   "outputs": [
    {
     "name": "stdout",
     "output_type": "stream",
     "text": [
      "Original Sentence: The university was founded in 1885 by Leland and Jane Stanford in memory of their only child, Leland Stanford Jr., who had died of typhoid fever at age 15 the previous year. Stanford was a former Governor of California and U.S. Senator; he made his fortune as a railroad tycoon. The school admitted its first students on October 1, 1891,[2][3] as a coeducational and non-denominational institution.\n",
      "Type: PERSON, Value: Leland\n",
      "Type: PERSON, Value: Jane\n",
      "Type: PERSON, Value: Stanford\n",
      "Type: PERSON, Value: Leland\n",
      "Type: PERSON, Value: Stanford\n",
      "Type: PERSON, Value: Jr.,\n",
      "Type: ORGANIZATION, Value: Stanford\n",
      "Type: LOCATION, Value: California\n",
      "Type: LOCATION, Value: U.S.\n"
     ]
    }
   ],
   "source": [
    "article = \"The university was founded in 1885 by Leland and Jane Stanford in memory of \\\n",
    "their only child, Leland Stanford Jr., who had died of typhoid fever at age 15 the previous \\\n",
    "year. Stanford was a former Governor of California and U.S. Senator; he made his fortune as a railroad tycoon. \\\n",
    "The school admitted its first students on October 1, 1891,[2][3] as a coeducational and non-denominational institution.\"\n",
    "\n",
    "print('Original Sentence: %s' % (article))\n",
    "\n",
    "results = stanford_ner_tagger.tag(article.split())\n",
    "\n",
    "for result in results:\n",
    "    tag_value = result[0]\n",
    "    tag_type = result[1]\n",
    "    if tag_type != 'O':\n",
    "        print('Type: %s, Value: %s' % (tag_type, tag_value))"
   ]
  },
  {
   "cell_type": "markdown",
   "metadata": {},
   "source": [
    "### Step 4: Second test"
   ]
  },
  {
   "cell_type": "code",
   "execution_count": 15,
   "metadata": {},
   "outputs": [
    {
     "name": "stdout",
     "output_type": "stream",
     "text": [
      "Original Sentence: New York, New York , NY N.Y. new york\n",
      "Type: LOCATION, Value: New\n",
      "Type: LOCATION, Value: York\n",
      "Type: LOCATION, Value: NY\n",
      "Type: LOCATION, Value: N.Y.\n"
     ]
    }
   ],
   "source": [
    "article2 = \"New York, New York , NY N.Y. new york\"\n",
    "\n",
    "print('Original Sentence: %s' % (article2))\n",
    "\n",
    "results = stanford_ner_tagger.tag(article2.split())\n",
    "\n",
    "for result in results:\n",
    "    tag_value = result[0]\n",
    "    tag_type = result[1]\n",
    "    if tag_type != 'O':\n",
    "        print('Type: %s, Value: %s' % (tag_type, tag_value))"
   ]
  },
  {
   "cell_type": "markdown",
   "metadata": {},
   "source": [
    "## 2. spaCy"
   ]
  },
  {
   "cell_type": "markdown",
   "metadata": {},
   "source": [
    "### Step 1: Environment Setup"
   ]
  },
  {
   "cell_type": "code",
   "execution_count": 28,
   "metadata": {},
   "outputs": [
    {
     "name": "stdout",
     "output_type": "stream",
     "text": [
      "/home/ri/Desktop/Info Storage and Retrieval/venv_1/bin/pip\n",
      "pip 19.2.3 from /home/ri/Desktop/Info Storage and Retrieval/venv_1/lib/python3.7/site-packages/pip (python 3.7)\n",
      "Collecting spacy==2.0.11\n",
      "  Using cached https://files.pythonhosted.org/packages/3c/31/e60f88751e48851b002f78a35221d12300783d5a43d4ef12fbf10cca96c3/spacy-2.0.11.tar.gz\n",
      "Requirement already satisfied: numpy>=1.7 in /home/ri/Desktop/Info Storage and Retrieval/venv_1/lib/python3.7/site-packages (from spacy==2.0.11) (1.17.2)\n",
      "Requirement already satisfied: murmurhash<0.29,>=0.28 in /home/ri/Desktop/Info Storage and Retrieval/venv_1/lib/python3.7/site-packages (from spacy==2.0.11) (0.28.0)\n",
      "Requirement already satisfied: cymem<1.32,>=1.30 in /home/ri/Desktop/Info Storage and Retrieval/venv_1/lib/python3.7/site-packages (from spacy==2.0.11) (1.31.2)\n",
      "Requirement already satisfied: preshed<2.0.0,>=1.0.0 in /home/ri/Desktop/Info Storage and Retrieval/venv_1/lib/python3.7/site-packages (from spacy==2.0.11) (1.0.1)\n",
      "Requirement already satisfied: thinc<6.11.0,>=6.10.1 in /home/ri/Desktop/Info Storage and Retrieval/venv_1/lib/python3.7/site-packages (from spacy==2.0.11) (6.10.3)\n",
      "Requirement already satisfied: plac<1.0.0,>=0.9.6 in /home/ri/Desktop/Info Storage and Retrieval/venv_1/lib/python3.7/site-packages (from spacy==2.0.11) (0.9.6)\n",
      "Requirement already satisfied: pathlib in /home/ri/Desktop/Info Storage and Retrieval/venv_1/lib/python3.7/site-packages (from spacy==2.0.11) (1.0.1)\n",
      "Requirement already satisfied: ujson>=1.35 in /home/ri/Desktop/Info Storage and Retrieval/venv_1/lib/python3.7/site-packages (from spacy==2.0.11) (1.35)\n",
      "Requirement already satisfied: dill<0.3,>=0.2 in /home/ri/Desktop/Info Storage and Retrieval/venv_1/lib/python3.7/site-packages (from spacy==2.0.11) (0.2.9)\n",
      "Requirement already satisfied: regex==2017.4.5 in /home/ri/Desktop/Info Storage and Retrieval/venv_1/lib/python3.7/site-packages (from spacy==2.0.11) (2017.4.5)\n",
      "Requirement already satisfied: msgpack<1.0.0,>=0.5.6 in /home/ri/Desktop/Info Storage and Retrieval/venv_1/lib/python3.7/site-packages (from thinc<6.11.0,>=6.10.1->spacy==2.0.11) (0.6.1)\n",
      "Requirement already satisfied: msgpack-numpy<1.0.0,>=0.4.1 in /home/ri/Desktop/Info Storage and Retrieval/venv_1/lib/python3.7/site-packages (from thinc<6.11.0,>=6.10.1->spacy==2.0.11) (0.4.4.3)\n",
      "Requirement already satisfied: cytoolz<0.10,>=0.9.0 in /home/ri/Desktop/Info Storage and Retrieval/venv_1/lib/python3.7/site-packages (from thinc<6.11.0,>=6.10.1->spacy==2.0.11) (0.9.0.1)\n",
      "Requirement already satisfied: wrapt<1.11.0,>=1.10.0 in /home/ri/Desktop/Info Storage and Retrieval/venv_1/lib/python3.7/site-packages (from thinc<6.11.0,>=6.10.1->spacy==2.0.11) (1.10.11)\n",
      "Requirement already satisfied: tqdm<5.0.0,>=4.10.0 in /home/ri/Desktop/Info Storage and Retrieval/venv_1/lib/python3.7/site-packages (from thinc<6.11.0,>=6.10.1->spacy==2.0.11) (4.35.0)\n",
      "Requirement already satisfied: six<2.0.0,>=1.10.0 in /home/ri/Desktop/Info Storage and Retrieval/venv_1/lib/python3.7/site-packages (from thinc<6.11.0,>=6.10.1->spacy==2.0.11) (1.12.0)\n",
      "Requirement already satisfied: toolz>=0.8.0 in /home/ri/Desktop/Info Storage and Retrieval/venv_1/lib/python3.7/site-packages (from cytoolz<0.10,>=0.9.0->thinc<6.11.0,>=6.10.1->spacy==2.0.11) (0.10.0)\n",
      "Installing collected packages: spacy\n",
      "  Running setup.py install for spacy: started\n",
      "    Running setup.py install for spacy: still running...\n",
      "    Running setup.py install for spacy: still running...\n",
      "    Running setup.py install for spacy: still running...\n",
      "    Running setup.py install for spacy: finished with status 'done'\n",
      "Successfully installed spacy-2.0.11\n",
      "cymem==1.31.2\n",
      "cytoolz==0.9.0.1\n",
      "dill==0.2.9\n",
      "msgpack==0.6.1\n",
      "msgpack-numpy==0.4.4.3\n",
      "murmurhash==0.28.0\n",
      "nltk==3.4.5\n",
      "numpy==1.17.2\n",
      "pathlib==1.0.1\n",
      "plac==0.9.6\n",
      "preshed==1.0.1\n",
      "regex==2017.4.5\n",
      "six==1.12.0\n",
      "spacy==2.0.11\n",
      "thinc==6.10.3\n",
      "toolz==0.10.0\n",
      "tqdm==4.35.0\n",
      "ujson==1.35\n",
      "wrapt==1.10.11\n"
     ]
    }
   ],
   "source": [
    "%%bash\n",
    ". ~/.bashrc\n",
    "which pip\n",
    "# pip install --upgrade pip\n",
    "pip --version\n",
    "pip install spacy==2.0.11\n",
    "pip freeze"
   ]
  },
  {
   "cell_type": "code",
   "execution_count": 30,
   "metadata": {},
   "outputs": [
    {
     "name": "stdout",
     "output_type": "stream",
     "text": [
      "Collecting https://github.com/explosion/spacy-models/releases/download/en_core_web_sm-2.0.0/en_core_web_sm-2.0.0.tar.gz\n",
      "  Downloading https://github.com/explosion/spacy-models/releases/download/en_core_web_sm-2.0.0/en_core_web_sm-2.0.0.tar.gz (37.4MB)\n",
      "Installing collected packages: en-core-web-sm\n",
      "  Running setup.py install for en-core-web-sm: started\n",
      "    Running setup.py install for en-core-web-sm: finished with status 'done'\n",
      "Successfully installed en-core-web-sm-2.0.0\n",
      "\n",
      "\u001b[93m    Linking successful\u001b[0m\n",
      "    /home/ri/Desktop/Info Storage and\n",
      "    Retrieval/venv_1/lib/python3.7/site-packages/en_core_web_sm -->\n",
      "    /home/ri/Desktop/Info Storage and\n",
      "    Retrieval/venv_1/lib/python3.7/site-packages/spacy/data/en\n",
      "\n",
      "    You can now load the model via spacy.load('en')\n",
      "\n"
     ]
    }
   ],
   "source": [
    "%%bash\n",
    ". ~/.bashrc\n",
    "python -m spacy download en"
   ]
  },
  {
   "cell_type": "markdown",
   "metadata": {},
   "source": [
    "### Step 2: Import library"
   ]
  },
  {
   "cell_type": "code",
   "execution_count": 36,
   "metadata": {},
   "outputs": [
    {
     "ename": "NameError",
     "evalue": "name 'spacy' is not defined",
     "output_type": "error",
     "traceback": [
      "\u001b[0;31m---------------------------------------------------------------------------\u001b[0m",
      "\u001b[0;31mNameError\u001b[0m                                 Traceback (most recent call last)",
      "\u001b[0;32m<ipython-input-36-ab87999e76a9>\u001b[0m in \u001b[0;36m<module>\u001b[0;34m\u001b[0m\n\u001b[1;32m      3\u001b[0m \u001b[0;31m#print('spaCy: %s' % (spacy.__version__))\u001b[0m\u001b[0;34m\u001b[0m\u001b[0;34m\u001b[0m\u001b[0;34m\u001b[0m\u001b[0m\n\u001b[1;32m      4\u001b[0m \u001b[0;34m\u001b[0m\u001b[0m\n\u001b[0;32m----> 5\u001b[0;31m \u001b[0mspacy_nlp\u001b[0m \u001b[0;34m=\u001b[0m \u001b[0mspacy\u001b[0m\u001b[0;34m.\u001b[0m\u001b[0mload\u001b[0m\u001b[0;34m(\u001b[0m\u001b[0;34m'en'\u001b[0m\u001b[0;34m)\u001b[0m\u001b[0;34m\u001b[0m\u001b[0;34m\u001b[0m\u001b[0m\n\u001b[0m",
      "\u001b[0;31mNameError\u001b[0m: name 'spacy' is not defined"
     ]
    }
   ],
   "source": [
    "import spacy\n",
    "\n",
    "print('spaCy: %s' % (spacy.__version__))\n",
    "\n",
    "spacy_nlp = spacy.load('en')"
   ]
  },
  {
   "cell_type": "markdown",
   "metadata": {},
   "source": [
    "### Step 3: First test"
   ]
  },
  {
   "cell_type": "code",
   "execution_count": null,
   "metadata": {},
   "outputs": [],
   "source": [
    "print('Original Sentence: %s' % (article))\n",
    "\n",
    "document = spacy_nlp(article)\n",
    "\n",
    "for element in document.ents:\n",
    "    print('Type: %s, Value: %s' % (element.label_, element))"
   ]
  },
  {
   "cell_type": "markdown",
   "metadata": {},
   "source": [
    "### Step 4: Second test"
   ]
  },
  {
   "cell_type": "markdown",
   "metadata": {},
   "source": [
    "## 3. NLTK NE_Chunk"
   ]
  },
  {
   "cell_type": "markdown",
   "metadata": {},
   "source": [
    "### Step 1: Environment Setup"
   ]
  },
  {
   "cell_type": "code",
   "execution_count": null,
   "metadata": {},
   "outputs": [],
   "source": [
    "%%bash\n",
    ". ~/.bashrc\n",
    "which pip\n",
    "pip install --upgrade pip\n",
    "pip --version\n",
    "pip install nltk==3.4.5"
   ]
  },
  {
   "cell_type": "markdown",
   "metadata": {},
   "source": [
    "### Step 2: Import library"
   ]
  },
  {
   "cell_type": "code",
   "execution_count": null,
   "metadata": {},
   "outputs": [],
   "source": [
    "import nltk\n",
    "print('NTLK version: %s' % (nltk.__version__))\n",
    "from nltk import word_tokenize, pos_tag, ne_chunk\n",
    "nltk.download('words')\n",
    "nltk.download('averaged_perceptron_tagger')\n",
    "nltk.download('punkt')\n",
    "nltk.download('maxent_ne_chunker')"
   ]
  },
  {
   "cell_type": "markdown",
   "metadata": {},
   "source": [
    "### Step 3: First test"
   ]
  },
  {
   "cell_type": "code",
   "execution_count": null,
   "metadata": {},
   "outputs": [],
   "source": [
    "print('Original Sentence: %s' % (article))\n",
    "\n",
    "results = ne_chunk(pos_tag(word_tokenize(article)))\n",
    "\n",
    "print()\n",
    "for x in str(results).split('\\n'):\n",
    "    if '/NNP' in x:\n",
    "        print(x)"
   ]
  },
  {
   "cell_type": "markdown",
   "metadata": {},
   "source": [
    "### Step 4: Second test"
   ]
  },
  {
   "cell_type": "code",
   "execution_count": null,
   "metadata": {},
   "outputs": [],
   "source": [
    "print('Original Sentence: %s' % (article2))\n",
    "\n",
    "results = ne_chunk(pos_tag(word_tokenize(article2)))\n",
    "\n",
    "print()\n",
    "for x in str(results).split('\\n'):\n",
    "    if '/NNP' in x:\n",
    "        print(x)"
   ]
  }
 ],
 "metadata": {
  "kernelspec": {
   "display_name": "Python 3",
   "language": "python",
   "name": "python3"
  },
  "language_info": {
   "codemirror_mode": {
    "name": "ipython",
    "version": 3
   },
   "file_extension": ".py",
   "mimetype": "text/x-python",
   "name": "python",
   "nbconvert_exporter": "python",
   "pygments_lexer": "ipython3",
   "version": "3.7.3"
  }
 },
 "nbformat": 4,
 "nbformat_minor": 2
}
